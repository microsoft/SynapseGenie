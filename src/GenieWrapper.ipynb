{
  "nbformat": 4,
  "nbformat_minor": 2,
  "metadata": {
    "kernelspec": {
      "name": "synapse_pyspark",
      "display_name": "Synapse PySpark"
    },
    "language_info": {
      "name": "python"
    },
    "save_output": true,
    "synapse_widget": {
      "version": "0.1",
      "state": {}
    }
  },
  "cells": [
    {
      "cell_type": "markdown",
      "metadata": {
        "nteract": {
          "transient": {
            "deleting": false
          }
        }
      },
      "source": [
        "## Set Spark Configuration"
      ]
    },
    {
      "cell_type": "code",
      "execution_count": null,
      "outputs": [],
      "metadata": {
        "jupyter": {
          "source_hidden": false,
          "outputs_hidden": false
        },
        "nteract": {
          "transient": {
            "deleting": false
          }
        }
      },
      "source": [
        "%%configure\r\n",
        "{\r\n",
        "    // You can get a list of valid parameters to config the session from https://github.com/cloudera/livy#request-body.\r\n",
        "    \"driverMemory\":\r\n",
        "    {\r\n",
        "        \"activityParameterName\": \"driverMemoryParameter\", \r\n",
        "        \"defaultValue\": \"28g\"\r\n",
        "    }, // Recommended values: [\"28g\", \"56g\", \"112g\", \"224g\", \"400g\", \"472g\"]\r\n",
        "    \"driverCores\":{\r\n",
        "        \"activityParameterName\": \"driverCoresParameter\", \r\n",
        "        \"defaultValue\": 4\r\n",
        "    }, // Recommended values: [4, 8, 16, 32, 64, 80]\r\n",
        "    \"executorMemory\":{\r\n",
        "        \"activityParameterName\": \"executorMemoryParameter\", \r\n",
        "        \"defaultValue\": \"28g\" \r\n",
        "    },\r\n",
        "    \"executorCores\":{\r\n",
        "        \"activityParameterName\": \"executorCoresParameter\", \r\n",
        "        \"defaultValue\": 4\r\n",
        "    },\r\n",
        "    \"numExecutors\":{\r\n",
        "        \"activityParameterName\": \"numExecutorsParameter\", \r\n",
        "        \"defaultValue\": 1\r\n",
        "    }\r\n",
        "}"
      ]
    },
    {
      "cell_type": "markdown",
      "metadata": {
        "nteract": {
          "transient": {
            "deleting": false
          }
        }
      },
      "source": [
        "## Creating Global Views "
      ]
    },
    {
      "cell_type": "code",
      "execution_count": null,
      "outputs": [],
      "metadata": {
        "jupyter": {
          "source_hidden": false
        }
      },
      "source": [
        "# Placeholder for creating global views so they can be accessed by all notebooks"
      ]
    },
    {
      "cell_type": "markdown",
      "metadata": {
        "nteract": {
          "transient": {
            "deleting": false
          }
        }
      },
      "source": [
        "# Calling the framework"
      ]
    },
    {
      "cell_type": "code",
      "execution_count": 12,
      "outputs": [],
      "metadata": {
        "jupyter": {
          "source_hidden": false,
          "outputs_hidden": false
        },
        "nteract": {
          "transient": {
            "deleting": false
          }
        }
      },
      "source": [
        "from geniepackage import GenieProcessExecution"
      ]
    },
    {
      "cell_type": "markdown",
      "metadata": {
        "nteract": {
          "transient": {
            "deleting": false
          }
        }
      },
      "source": [
        "# Parameters"
      ]
    },
    {
      "cell_type": "markdown",
      "metadata": {
        "nteract": {
          "transient": {
            "deleting": false
          }
        }
      },
      "source": [
        "The following parameters can be passed through a Synapse/ADF pipeline\r\n",
        "- state -> Denotes whether the framework should start from the beginning or restart from where it failed. Takes either of the two values - \"start\" and \"restart\" \\<String>\r\n",
        "- pipeline -> Name of the pipeline to be run in the framework. Case-sensitive and should be in the metadata table. \\<String>"
      ]
    },
    {
      "cell_type": "code",
      "execution_count": 13,
      "outputs": [],
      "metadata": {
        "jupyter": {
          "source_hidden": false,
          "outputs_hidden": false
        },
        "nteract": {
          "transient": {
            "deleting": false
          }
        },
        "tags": [
          "parameters"
        ]
      },
      "source": [
        "state = \"start\"\r\n",
        "pipeline = \"demo1_pipeline\"\r\n",
        "\r\n",
        "# --NOT Required\r\n",
        "# triggerType and runID are variables set by the pipeline. No need to pass any parameter from the user side \r\n",
        "triggerType = \"\"\r\n",
        "runID = \"\""
      ]
    },
    {
      "cell_type": "markdown",
      "metadata": {
        "nteract": {
          "transient": {
            "deleting": false
          }
        }
      },
      "source": [
        "- threads -> The maximum number of notebooks that can be run together in a pipeline or sub-pipeline. By default value is set to number of executor cores available. \\<integer>\r\n",
        ""
      ]
    },
    {
      "cell_type": "code",
      "execution_count": 14,
      "outputs": [],
      "metadata": {
        "jupyter": {
          "source_hidden": false,
          "outputs_hidden": false
        },
        "nteract": {
          "transient": {
            "deleting": false
          }
        }
      },
      "source": [
        "# By default threads is set equal to the number of executor cores. \"threads\" variable can be tuned to a particular number depending on requirements\r\n",
        "import os\r\n",
        "threads = (sc._jsc.sc().getExecutorMemoryStatus().keySet().size()-1)*os.cpu_count() "
      ]
    },
    {
      "cell_type": "markdown",
      "metadata": {
        "nteract": {
          "transient": {
            "deleting": false
          }
        }
      },
      "source": [
        "## Instantiating and Executing the framework"
      ]
    },
    {
      "cell_type": "code",
      "execution_count": 16,
      "outputs": [],
      "metadata": {
        "jupyter": {
          "source_hidden": false,
          "outputs_hidden": false
        },
        "nteract": {
          "transient": {
            "deleting": false
          }
        }
      },
      "source": [
        "genie_obj = GenieProcessExecution.Genie(spark,mssparkutils.notebook,threads) #Creating the object of framework"
      ]
    },
    {
      "cell_type": "code",
      "execution_count": 22,
      "outputs": [],
      "metadata": {
        "jupyter": {
          "source_hidden": false,
          "outputs_hidden": false
        },
        "nteract": {
          "transient": {
            "deleting": false
          }
        }
      },
      "source": [
        "genie_obj.execute(state,pipeline)"
      ]
    },
    {
      "cell_type": "markdown",
      "metadata": {
        "nteract": {
          "transient": {
            "deleting": false
          }
        }
      },
      "source": [
        "### View Metadata"
      ]
    },
    {
      "cell_type": "code",
      "execution_count": 19,
      "outputs": [],
      "metadata": {
        "jupyter": {
          "source_hidden": false,
          "outputs_hidden": false
        },
        "nteract": {
          "transient": {
            "deleting": false
          }
        },
        "microsoft": {
          "language": "sparksql"
        },
        "collapsed": false
      },
      "source": [
        "%%sql\r\n",
        "select * from genie.metadata where pipeline like '%demo1%' or pipeline like '%demo2%'"
      ]
    },
    {
      "cell_type": "markdown",
      "metadata": {
        "nteract": {
          "transient": {
            "deleting": false
          }
        }
      },
      "source": [
        "### Visualizing the Graph"
      ]
    },
    {
      "cell_type": "code",
      "execution_count": 6,
      "outputs": [],
      "metadata": {
        "jupyter": {
          "source_hidden": false,
          "outputs_hidden": false
        },
        "nteract": {
          "transient": {
            "deleting": false
          }
        }
      },
      "source": [
        "# if not present in requirements.yml file for pool, run the following commands, otherwise proceed to the next cell\r\n",
        "# conda install -y graphviz \r\n",
        "# pip install pydot\r\n",
        "# pip install graphviz"
      ]
    },
    {
      "cell_type": "code",
      "execution_count": 20,
      "outputs": [],
      "metadata": {
        "jupyter": {
          "source_hidden": false,
          "outputs_hidden": false
        },
        "nteract": {
          "transient": {
            "deleting": false
          }
        }
      },
      "source": [
        "# import graphviz\r\n",
        "# import pydot\r\n",
        "# from IPython.display import display\r\n",
        "\r\n",
        "# obj.visualizeGraph(pipeline)"
      ]
    },
    {
      "cell_type": "code",
      "execution_count": null,
      "outputs": [],
      "metadata": {
        "jupyter": {
          "source_hidden": false,
          "outputs_hidden": false
        },
        "nteract": {
          "transient": {
            "deleting": false
          }
        }
      },
      "source": [
        "mssparkutils.notebook.exit()"
      ]
    }
  ]
}